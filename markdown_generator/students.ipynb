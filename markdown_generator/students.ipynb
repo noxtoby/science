{
 "cells": [
  {
   "cell_type": "markdown",
   "metadata": {},
   "source": [
    "# Students markdown generator for academicpages\n",
    "\n",
    "Takes a TSV of students with metadata and converts them for use with [academicpages.github.io](academicpages.github.io). This is an interactive Jupyter notebook ([see more info here](http://jupyter-notebook-beginner-guide.readthedocs.io/en/latest/what_is_jupyter.html)). The core python code is also in `publications.py`. Run either from the `markdown_generator` folder after replacing `students.tsv` with one containing your data.\n"
   ]
  },
  {
   "cell_type": "markdown",
   "metadata": {},
   "source": [
    "## Data format\n",
    "\n",
    "The TSV needs to have the following columns: pub_date, title, venue, excerpt, citation, site_url, and paper_url, with a header at the top. \n",
    "\n",
    "- `excerpt` and `paper_url` can be blank, but the others must have values. \n",
    "- `pub_date` must be formatted as YYYY-MM-DD.\n",
    "- `url_slug` will be the descriptive part of the .md file and the permalink URL for the page about the paper. The .md file will be `YYYY-MM-DD-[url_slug].md` and the permalink will be `https://[yourdomain]/publications/YYYY-MM-DD-[url_slug]`\n",
    "\n",
    "This is how the raw file looks (it doesn't look pretty, use a spreadsheet or other program to edit and create)."
   ]
  },
  {
   "cell_type": "code",
   "execution_count": 1,
   "metadata": {},
   "outputs": [
    {
     "name": "stdout",
     "output_type": "stream",
     "text": [
      "start_date\tstudent_name\ttitle\tvenue\tthesis_title\turl_slug\tphd_url\tprimary\tsecondary\tsubsidiary\r",
      "\r\n",
      "01/10/2014\tRazvan Marinescu\t2014: Razvan Marinescu\tUCL\tModelling the Neuroanatomical Progression of Alzheimer's Disease and Posterior Cortical Atrophy\t1-razvan-marinescu\thttps://discovery.ucl.ac.uk/id/eprint/10087438/\tDanny Alexander\tSeb Crutch (DRC)\tNeil Oxtoby\r",
      "\r\n",
      "30/09/2016\tMaura Bellio\t2016: Maura Bellio\tUCL\t\"Translating Predictive Models for Alzheimer's Disease to Clinical Practice: User Research, Adoption Opportunities, and Conceptual Design of a Decision Support Tool\"\t1-maura-bellio\thttps://discovery.ucl.ac.uk/id/eprint/10134507\tDanny Alexander\tAnn Blandford (UCLIC)\t\"Neil Oxtoby, Annemie Ribbens (icometrix)\"\r",
      "\r\n",
      "01/10/2018\tAnna Schroder\t2018: Anna Schroder\tUCL\tA Framework for Pathology-Informed Optimisation of the Tractography-Estimated Structural Connectome\t1-anna-schroder\t\tDanny Alexander\tJonathan Schott (DRC)\tNeil Oxtoby\r",
      "\r\n",
      "01/10/2019\tMoucheng Xu\t2019: Moucheng Xu\tUCL\tVisual and Causal Representation Learning for Disease Progression: Application on Idiopathic Pulmonary Fibrosis\t1-moucheng-xu\t\tJoe Jacob\tYipeng Hu (WEISS)\t\"Marius de Groot (GSK), Neil Oxtoby\"\r",
      "\r\n",
      "01/09/2020\tKiran Samra\t2020: Kiran Samra\tUCL\tDefining the stages of presymptomatic frontotemporal dementia\t1-kiran-samra\t\tJonathan Rohrer (DRC)\tNeil Oxtoby\tLucy Russell (DRC)\r",
      "\r\n",
      "01/10/2020\tZeena Shawa\t2020: Zeena Shawa\tUCL\tETA 2024\t2-zeena-shawa\t\tNeil Oxtoby\tRimona Weil (DRC)\tCameron Shand\r",
      "\r\n",
      "01/12/2020\tIsaac Llorente Saguer\t2020: Isaac Llorente Saguer\tUCL\tETA 2024\t3-isaac-llorente-saguer\t\tNeil Oxtoby\tMarc Aurel Busche (UK DRI)\t\r",
      "\r\n",
      "02/02/2021\tBeatrice Taylor\t2021: Beatrice Taylor\tUCL\tETA 2024\t1-beatrice-taylor\t\tNeil Oxtoby\tChris Hardy (DRC)\t\"Seb Crutch (DRC), Danny Alexander\""
     ]
    }
   ],
   "source": [
    "!cat students.tsv"
   ]
  },
  {
   "cell_type": "markdown",
   "metadata": {},
   "source": [
    "## Import pandas\n",
    "\n",
    "We are using the very handy pandas library for dataframes."
   ]
  },
  {
   "cell_type": "code",
   "execution_count": 2,
   "metadata": {},
   "outputs": [],
   "source": [
    "import pandas as pd"
   ]
  },
  {
   "cell_type": "markdown",
   "metadata": {},
   "source": [
    "## Import TSV\n",
    "\n",
    "Pandas makes this easy with the read_csv function. We are using a TSV, so we specify the separator as a tab, or `\\t`.\n",
    "\n",
    "I found it important to put this data in a tab-separated values format, because there are a lot of commas in this kind of data and comma-separated values can get messed up. However, you can modify the import statement, as pandas also has read_excel(), read_json(), and others."
   ]
  },
  {
   "cell_type": "code",
   "execution_count": 8,
   "metadata": {},
   "outputs": [
    {
     "data": {
      "text/html": [
       "<div>\n",
       "<style scoped>\n",
       "    .dataframe tbody tr th:only-of-type {\n",
       "        vertical-align: middle;\n",
       "    }\n",
       "\n",
       "    .dataframe tbody tr th {\n",
       "        vertical-align: top;\n",
       "    }\n",
       "\n",
       "    .dataframe thead th {\n",
       "        text-align: right;\n",
       "    }\n",
       "</style>\n",
       "<table border=\"1\" class=\"dataframe\">\n",
       "  <thead>\n",
       "    <tr style=\"text-align: right;\">\n",
       "      <th></th>\n",
       "      <th>start_date</th>\n",
       "      <th>student_name</th>\n",
       "      <th>title</th>\n",
       "      <th>venue</th>\n",
       "      <th>thesis_title</th>\n",
       "      <th>url_slug</th>\n",
       "      <th>phd_url</th>\n",
       "      <th>primary</th>\n",
       "      <th>secondary</th>\n",
       "      <th>subsidiary</th>\n",
       "    </tr>\n",
       "  </thead>\n",
       "  <tbody>\n",
       "    <tr>\n",
       "      <th>0</th>\n",
       "      <td>01/10/2014</td>\n",
       "      <td>Razvan Marinescu</td>\n",
       "      <td>2014: Razvan Marinescu</td>\n",
       "      <td>UCL</td>\n",
       "      <td>Modelling the Neuroanatomical Progression of A...</td>\n",
       "      <td>1-razvan-marinescu</td>\n",
       "      <td>https://discovery.ucl.ac.uk/id/eprint/10087438/</td>\n",
       "      <td>Danny Alexander</td>\n",
       "      <td>Seb Crutch (DRC)</td>\n",
       "      <td>Neil Oxtoby</td>\n",
       "    </tr>\n",
       "    <tr>\n",
       "      <th>1</th>\n",
       "      <td>30/09/2016</td>\n",
       "      <td>Maura Bellio</td>\n",
       "      <td>2016: Maura Bellio</td>\n",
       "      <td>UCL</td>\n",
       "      <td>Translating Predictive Models for Alzheimer's ...</td>\n",
       "      <td>1-maura-bellio</td>\n",
       "      <td>https://discovery.ucl.ac.uk/id/eprint/10134507</td>\n",
       "      <td>Danny Alexander</td>\n",
       "      <td>Ann Blandford (UCLIC)</td>\n",
       "      <td>Neil Oxtoby, Annemie Ribbens (icometrix)</td>\n",
       "    </tr>\n",
       "    <tr>\n",
       "      <th>2</th>\n",
       "      <td>01/10/2018</td>\n",
       "      <td>Anna Schroder</td>\n",
       "      <td>2018: Anna Schroder</td>\n",
       "      <td>UCL</td>\n",
       "      <td>A Framework for Pathology-Informed Optimisatio...</td>\n",
       "      <td>1-anna-schroder</td>\n",
       "      <td>NaN</td>\n",
       "      <td>Danny Alexander</td>\n",
       "      <td>Jonathan Schott (DRC)</td>\n",
       "      <td>Neil Oxtoby</td>\n",
       "    </tr>\n",
       "    <tr>\n",
       "      <th>3</th>\n",
       "      <td>01/10/2019</td>\n",
       "      <td>Moucheng Xu</td>\n",
       "      <td>2019: Moucheng Xu</td>\n",
       "      <td>UCL</td>\n",
       "      <td>Visual and Causal Representation Learning for ...</td>\n",
       "      <td>1-moucheng-xu</td>\n",
       "      <td>NaN</td>\n",
       "      <td>Joe Jacob</td>\n",
       "      <td>Yipeng Hu (WEISS)</td>\n",
       "      <td>Marius de Groot (GSK), Neil Oxtoby</td>\n",
       "    </tr>\n",
       "    <tr>\n",
       "      <th>4</th>\n",
       "      <td>01/09/2020</td>\n",
       "      <td>Kiran Samra</td>\n",
       "      <td>2020: Kiran Samra</td>\n",
       "      <td>UCL</td>\n",
       "      <td>Defining the stages of presymptomatic frontote...</td>\n",
       "      <td>1-kiran-samra</td>\n",
       "      <td>NaN</td>\n",
       "      <td>Jonathan Rohrer (DRC)</td>\n",
       "      <td>Neil Oxtoby</td>\n",
       "      <td>Lucy Russell (DRC)</td>\n",
       "    </tr>\n",
       "    <tr>\n",
       "      <th>5</th>\n",
       "      <td>01/10/2020</td>\n",
       "      <td>Zeena Shawa</td>\n",
       "      <td>2020: Zeena Shawa</td>\n",
       "      <td>UCL</td>\n",
       "      <td>ETA 2024</td>\n",
       "      <td>2-zeena-shawa</td>\n",
       "      <td>NaN</td>\n",
       "      <td>Neil Oxtoby</td>\n",
       "      <td>Rimona Weil (DRC)</td>\n",
       "      <td>Cameron Shand</td>\n",
       "    </tr>\n",
       "    <tr>\n",
       "      <th>6</th>\n",
       "      <td>01/12/2020</td>\n",
       "      <td>Isaac Llorente Saguer</td>\n",
       "      <td>2020: Isaac Llorente Saguer</td>\n",
       "      <td>UCL</td>\n",
       "      <td>ETA 2024</td>\n",
       "      <td>3-isaac-llorente-saguer</td>\n",
       "      <td>NaN</td>\n",
       "      <td>Neil Oxtoby</td>\n",
       "      <td>Marc Aurel Busche (UK DRI)</td>\n",
       "      <td>NaN</td>\n",
       "    </tr>\n",
       "    <tr>\n",
       "      <th>7</th>\n",
       "      <td>02/02/2021</td>\n",
       "      <td>Beatrice Taylor</td>\n",
       "      <td>2021: Beatrice Taylor</td>\n",
       "      <td>UCL</td>\n",
       "      <td>ETA 2024</td>\n",
       "      <td>1-beatrice-taylor</td>\n",
       "      <td>NaN</td>\n",
       "      <td>Neil Oxtoby</td>\n",
       "      <td>Chris Hardy (DRC)</td>\n",
       "      <td>Seb Crutch (DRC), Danny Alexander</td>\n",
       "    </tr>\n",
       "  </tbody>\n",
       "</table>\n",
       "</div>"
      ],
      "text/plain": [
       "   start_date           student_name                        title venue  \\\n",
       "0  01/10/2014       Razvan Marinescu       2014: Razvan Marinescu   UCL   \n",
       "1  30/09/2016           Maura Bellio           2016: Maura Bellio   UCL   \n",
       "2  01/10/2018          Anna Schroder          2018: Anna Schroder   UCL   \n",
       "3  01/10/2019            Moucheng Xu            2019: Moucheng Xu   UCL   \n",
       "4  01/09/2020            Kiran Samra            2020: Kiran Samra   UCL   \n",
       "5  01/10/2020            Zeena Shawa            2020: Zeena Shawa   UCL   \n",
       "6  01/12/2020  Isaac Llorente Saguer  2020: Isaac Llorente Saguer   UCL   \n",
       "7  02/02/2021        Beatrice Taylor        2021: Beatrice Taylor   UCL   \n",
       "\n",
       "                                        thesis_title                 url_slug  \\\n",
       "0  Modelling the Neuroanatomical Progression of A...       1-razvan-marinescu   \n",
       "1  Translating Predictive Models for Alzheimer's ...           1-maura-bellio   \n",
       "2  A Framework for Pathology-Informed Optimisatio...          1-anna-schroder   \n",
       "3  Visual and Causal Representation Learning for ...            1-moucheng-xu   \n",
       "4  Defining the stages of presymptomatic frontote...            1-kiran-samra   \n",
       "5                                           ETA 2024            2-zeena-shawa   \n",
       "6                                           ETA 2024  3-isaac-llorente-saguer   \n",
       "7                                           ETA 2024        1-beatrice-taylor   \n",
       "\n",
       "                                           phd_url                primary  \\\n",
       "0  https://discovery.ucl.ac.uk/id/eprint/10087438/        Danny Alexander   \n",
       "1   https://discovery.ucl.ac.uk/id/eprint/10134507        Danny Alexander   \n",
       "2                                              NaN        Danny Alexander   \n",
       "3                                              NaN              Joe Jacob   \n",
       "4                                              NaN  Jonathan Rohrer (DRC)   \n",
       "5                                              NaN            Neil Oxtoby   \n",
       "6                                              NaN            Neil Oxtoby   \n",
       "7                                              NaN            Neil Oxtoby   \n",
       "\n",
       "                    secondary                                subsidiary  \n",
       "0            Seb Crutch (DRC)                               Neil Oxtoby  \n",
       "1       Ann Blandford (UCLIC)  Neil Oxtoby, Annemie Ribbens (icometrix)  \n",
       "2       Jonathan Schott (DRC)                               Neil Oxtoby  \n",
       "3           Yipeng Hu (WEISS)        Marius de Groot (GSK), Neil Oxtoby  \n",
       "4                 Neil Oxtoby                        Lucy Russell (DRC)  \n",
       "5           Rimona Weil (DRC)                             Cameron Shand  \n",
       "6  Marc Aurel Busche (UK DRI)                                       NaN  \n",
       "7           Chris Hardy (DRC)         Seb Crutch (DRC), Danny Alexander  "
      ]
     },
     "execution_count": 8,
     "metadata": {},
     "output_type": "execute_result"
    }
   ],
   "source": [
    "students = pd.read_csv(\"students.tsv\", sep=\"\\t\", header=0)\n",
    "students\n"
   ]
  },
  {
   "cell_type": "markdown",
   "metadata": {},
   "source": [
    "## Escape special characters\n",
    "\n",
    "YAML is very picky about how it takes a valid string, so we are replacing single and double quotes (and ampersands) with their HTML encoded equivilents. This makes them look not so readable in raw format, but they are parsed and rendered nicely."
   ]
  },
  {
   "cell_type": "code",
   "execution_count": 4,
   "metadata": {},
   "outputs": [],
   "source": [
    "html_escape_table = {\n",
    "    \"&\": \"&amp;\",\n",
    "    '\"': \"&quot;\",\n",
    "    \"'\": \"&apos;\"\n",
    "    }\n",
    "\n",
    "def html_escape(text):\n",
    "    \"\"\"Produce entities within text.\"\"\"\n",
    "    return \"\".join(html_escape_table.get(c,c) for c in text)"
   ]
  },
  {
   "cell_type": "markdown",
   "metadata": {},
   "source": [
    "## Creating the markdown files\n",
    "\n",
    "This is where the heavy lifting is done. This loops through all the rows in the TSV dataframe, then starts to concatentate a big string (```md```) that contains the markdown for each type. It does the YAML metadata first, then does the description for the individual page."
   ]
  },
  {
   "cell_type": "code",
   "execution_count": 10,
   "metadata": {},
   "outputs": [],
   "source": [
    "import os\n",
    "for row, item in students.iterrows():\n",
    "    \n",
    "    md_filename = str(item.start_date) + \"-\" + item.url_slug + \".md\"\n",
    "    html_filename = str(item.start_date) + \"-\" + item.url_slug\n",
    "    year = item.start_date[:4]\n",
    "    \n",
    "    ## YAML variables\n",
    "    \n",
    "    md = \"---\\ntitle: \\\"\"   + item.title + '\"\\n'\n",
    "    \n",
    "    md += \"\"\"collection: students\"\"\"\n",
    "    \n",
    "    md += \"\"\"\\npermalink: /students/\"\"\" + html_filename\n",
    "    \n",
    "    md += \"\\ndate: \" + str(item.start_date) \n",
    "    \n",
    "    md += \"\\nvenue: '\" + html_escape(item.venue) + \"'\"\n",
    "    \n",
    "    md += \"\\n---\"\n",
    "    \n",
    "    ## Markdown description for individual page\n",
    "    \n",
    "    md += f\"\\nStudent: {item.student_name}\"\n",
    "    \n",
    "    if len(str(item.thesis_title)) > 5:\n",
    "        md += \"\\n\\nThesis: \" + item.thesis_title + \"<br/>\"\n",
    "    else:\n",
    "        md += \"\\n\\nThesis submission: \" + item.thesis_title + \"<br/>\"\n",
    "    \n",
    "    if len(str(item.phd_url)) > 5:\n",
    "        md += \"\\n[Download here](\" + item.phd_url + \")\"\n",
    "    \n",
    "    if len(str(item.primary)) > 5:\n",
    "        md += \"\\n\\nPrimary Supervisor: \" + item.primary + \"<br/>\"\n",
    "    if len(str(item.secondary)) > 5:\n",
    "        md += \"\\nSecondary Supervisor: \" + item.secondary + \"<br/>\"\n",
    "    if len(str(item.subsidiary)) > 5:\n",
    "        md += \"\\nSubsidiary: \" + item.subsidiary\n",
    "    \n",
    "    md_filename = os.path.basename(md_filename)\n",
    "       \n",
    "    with open(\"../_students/\" + md_filename, 'w') as f:\n",
    "        f.write(md)"
   ]
  },
  {
   "cell_type": "markdown",
   "metadata": {},
   "source": [
    "These files are in the publications directory, one directory below where we're working from."
   ]
  },
  {
   "cell_type": "code",
   "execution_count": 12,
   "metadata": {},
   "outputs": [
    {
     "name": "stdout",
     "output_type": "stream",
     "text": [
      "2014-1-razvan-marinescu.md      2020-1-kiran-samra.md\r\n",
      "2016-1-maura-bellio.md          2020-2-zeena-shawa.md\r\n",
      "2018-1-anna-schroder.md         2020-3-isaac-llorente-saguer.md\r\n",
      "2019-1-moucheng-xu.md           2021-1-beatrice-taylor.md\r\n"
     ]
    }
   ],
   "source": [
    "!ls ../_students/"
   ]
  },
  {
   "cell_type": "code",
   "execution_count": 13,
   "metadata": {},
   "outputs": [
    {
     "name": "stdout",
     "output_type": "stream",
     "text": [
      "---\r\n",
      "title: \"2014: Razvan Marinescu\"\r\n",
      "collection: students\r\n",
      "permalink: /students/01/10/2014-1-razvan-marinescu\r\n",
      "date: 01/10/2014\r\n",
      "venue: 'UCL'\r\n",
      "---\r\n",
      "Student: Razvan Marinescu\r\n",
      "\r\n",
      "Thesis: Modelling the Neuroanatomical Progression of Alzheimer's Disease and Posterior Cortical Atrophy<br/>\r\n",
      "[Download here](https://discovery.ucl.ac.uk/id/eprint/10087438/)\r\n",
      "\r\n",
      "Primary Supervisor: Danny Alexander<br/>\r\n",
      "Secondary Supervisor: Seb Crutch (DRC)<br/>\r\n",
      "Subsidiary: Neil Oxtoby"
     ]
    }
   ],
   "source": [
    "!cat ../_students/2014-1-razvan-marinescu.md"
   ]
  },
  {
   "cell_type": "code",
   "execution_count": null,
   "metadata": {
    "collapsed": true
   },
   "outputs": [],
   "source": []
  }
 ],
 "metadata": {
  "kernelspec": {
   "display_name": "Python 3 (ipykernel)",
   "language": "python",
   "name": "python3"
  },
  "language_info": {
   "codemirror_mode": {
    "name": "ipython",
    "version": 3
   },
   "file_extension": ".py",
   "mimetype": "text/x-python",
   "name": "python",
   "nbconvert_exporter": "python",
   "pygments_lexer": "ipython3",
   "version": "3.10.9"
  }
 },
 "nbformat": 4,
 "nbformat_minor": 1
}
